{
 "cells": [
  {
   "cell_type": "markdown",
   "metadata": {},
   "source": [
    "### Objective\n",
    "The goal of this assignment is to get accustomed with `torch.tensor`, the `timeit` function, and `matplotlib` by expanding upon what we did in class. This assignment will go over matrix-matrix multiplication and measure the speedup of vectorized multiplication vs. plain python multiplication."
   ]
  },
  {
   "cell_type": "markdown",
   "metadata": {},
   "source": [
    "### Approach\n",
    "First up, I wrote a function that generates a matrix as a list of lists and populates it with random numbers. This function essentially generates the data we will use to do matrix-matrix multiplication.\n",
    "\n",
    "To make the matrix easier to comprehend, the function will, by default, populate the matrix with values ranging from 0 to 100 rounded to two decimal places. "
   ]
  },
  {
   "cell_type": "code",
   "execution_count": 1,
   "metadata": {},
   "outputs": [],
   "source": [
    "import random\n",
    "\n",
    "def generate_matrix(rows, cols, max_value=100, min_value=0):\n",
    "    return [[round(random.uniform(min_value, max_value) * 100) / 100 for _ in range(cols)] for _ in range(rows)]"
   ]
  },
  {
   "cell_type": "markdown",
   "metadata": {},
   "source": [
    "I then implemented a function to do matrix multiplication **in plain Python** using nested for loops. Notice that the `result` list is passed in as a parameter so that we when run the function to measure how long matrix multiplication takes with plain Python, we don't measure the initialization of a result list."
   ]
  },
  {
   "cell_type": "code",
   "execution_count": null,
   "metadata": {},
   "outputs": [],
   "source": [
    "from typing import List\n",
    "\n",
    "def python_matrix_multiply(A: List[List], B: List[List], result=None):\n",
    "    rows_A, cols_A = len(A), len(A[0])\n",
    "    rows_B, cols_B = len(B), len(B[0])\n",
    "\n",
    "    if cols_A != rows_B:\n",
    "        raise ValueError(\"Cannot multiply matrices: incompatible dimensions.\")\n",
    "\n",
    "    for i in range(rows_A):\n",
    "        for j in range(cols_B):\n",
    "            for k in range(cols_A):\n",
    "                result[i][j] += A[i][k] * B[k][j]\n",
    "    return result"
   ]
  }
 ],
 "metadata": {
  "kernelspec": {
   "display_name": "Python 3",
   "language": "python",
   "name": "python3"
  },
  "language_info": {
   "codemirror_mode": {
    "name": "ipython",
    "version": 3
   },
   "file_extension": ".py",
   "mimetype": "text/x-python",
   "name": "python",
   "nbconvert_exporter": "python",
   "pygments_lexer": "ipython3",
   "version": "3.11.5"
  }
 },
 "nbformat": 4,
 "nbformat_minor": 2
}
