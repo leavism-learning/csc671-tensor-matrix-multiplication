{
 "cells": [
  {
   "cell_type": "markdown",
   "metadata": {},
   "source": [
    "### Objective\n",
    "The goal of this assignment is to get accustomed with `torch.tensor`, the `timeit` function, and `matplotlib` by expanding upon what we did in class. This assignment will go over matrix-matrix multiplication and measure the speedup of vectorized multiplication vs. plain python multiplication."
   ]
  },
  {
   "cell_type": "markdown",
   "metadata": {},
   "source": [
    "### Approach\n",
    "First up, I wrote a function that generates a matrix as a list of lists and populates it with random numbers. This function essentially generates the data we will use to do matrix-matrix multiplication.\n",
    "\n",
    "To make the matrix easier to comprehend, the function will, by default, populate the matrix with values ranging from 0 to 100 rounded to two decimal places. "
   ]
  }
 ],
 "metadata": {
  "language_info": {
   "name": "python"
  }
 },
 "nbformat": 4,
 "nbformat_minor": 2
}
