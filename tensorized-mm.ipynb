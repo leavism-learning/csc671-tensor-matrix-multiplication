{
 "cells": [
  {
   "cell_type": "markdown",
   "metadata": {},
   "source": [
    "### Objective\n",
    "The goal of this assignment is to get accustomed with `torch.tensor`, the `timeit` function, and `matplotlib` by expanding upon what we did in class. This assignment will go over matrix-matrix multiplication and measure the speedup of vectorized multiplication vs. plain python multiplication."
   ]
  },
  {
   "cell_type": "markdown",
   "metadata": {},
   "source": [
    "### Approach\n",
    "First up, I wrote a function that generates a matrix as a list of lists and populates it with random numbers. This function essentially generates the data we will use to do matrix-matrix multiplication.\n",
    "\n",
    "To make the matrix easier to comprehend, the function will, by default, populate the matrix with values ranging from 0 to 100 rounded to two decimal places. "
   ]
  },
  {
   "cell_type": "code",
   "execution_count": 1,
   "metadata": {},
   "outputs": [],
   "source": [
    "import random\n",
    "\n",
    "def generate_matrix(rows, cols, max_value=100, min_value=0):\n",
    "    return [[round(random.uniform(min_value, max_value) * 100) / 100 for _ in range(cols)] for _ in range(rows)]"
   ]
  },
  {
   "cell_type": "markdown",
   "metadata": {},
   "source": [
    "I then implemented a function to do matrix multiplication **in plain Python** using nested for loops. Notice that the `result` list is passed in as a parameter so that we when run the function to measure how long matrix multiplication takes with plain Python, we don't measure the initialization of a result list."
   ]
  },
  {
   "cell_type": "code",
   "execution_count": null,
   "metadata": {},
   "outputs": [],
   "source": [
    "from typing import List\n",
    "\n",
    "def python_matrix_multiply(A: List[List], B: List[List], result=None):\n",
    "    rows_A, cols_A = len(A), len(A[0])\n",
    "    rows_B, cols_B = len(B), len(B[0])\n",
    "\n",
    "    if cols_A != rows_B:\n",
    "        raise ValueError(\"Cannot multiply matrices: incompatible dimensions.\")\n",
    "\n",
    "    for i in range(rows_A):\n",
    "        for j in range(cols_B):\n",
    "            for k in range(cols_A):\n",
    "                result[i][j] += A[i][k] * B[k][j]\n",
    "    return result"
   ]
  },
  {
   "cell_type": "markdown",
   "metadata": {},
   "source": [
    "Now to put all my functions to use. I write a list of ten different m values {10, 20, 30, ..., 90, 100} in order to generate pairs of matrices W and X such that W has size (90, m) and X has size (m, 110).\n",
    "\n",
    "I then perform matrix multiplication using `torch.mm()` and the previously defined `python_matrix_multiplication()`, use `timeit` to record their respective execution time, and calculate the time improvement ratio between the two ways of performing matrix multiplication.\n",
    "\n",
    "I used `torch.mm()` instead of `torch.matmul()` because `torch.mm()` strictly handles the matrix product of two 2-D tensors. If either tensor has more than 2 dimensions, `torch.mm()` will raise an error."
   ]
  },
  {
   "cell_type": "code",
   "execution_count": 2,
   "metadata": {},
   "outputs": [],
   "source": [
    "import timeit\n",
    "import torch\n",
    "\n",
    "m_values = list(range(10, 101, 10)) # Values of m\n",
    "speed_improvement_ratios = []       # List to store the speed improvement ratios\n",
    "\n",
    "for m in m_values:\n",
    "    W = generate_matrix(90, m)\n",
    "    X = generate_matrix(m, 110)\n",
    "    W_t = torch.tensor(W)\n",
    "    X_t = torch.tensor(X)\n",
    "    result = [[0 for _ in range(110)] for _ in range(90)]\n",
    "\n",
    "    # Measure time taken to multiply W and X\n",
    "    python_execution_time = timeit.timeit(lambda: python_matrix_multiply(W, X, result), number = 1)\n",
    "    torch_execution_time = timeit.timeit(lambda: torch.mm(W_t, X_t), number = 1)\n",
    "    print(f\"m = {m:03} \\t Plain Python: {python_execution_time:.5f} seconds | Torch: {torch_execution_time:.7f} seconds\")\n",
    "\n",
    "    # Calculate and store the improvement ration to graph later\n",
    "    ratio = python_execution_time / torch_execution_time\n",
    "    speed_improvement_ratios.append(ratio)\n"
   ]
  },
  {
   "cell_type": "markdown",
   "metadata": {},
   "source": [
    "Below is the `matplotlib` code to plot a line graph of the speed improvement ratio."
   ]
  },
  {
   "cell_type": "code",
   "execution_count": null,
   "metadata": {},
   "outputs": [],
   "source": [
    "%matplotlib inline\n",
    "import matplotlib.pyplot as plt\n",
    "\n",
    "plt.plot(m_values, speed_improvement_ratios, marker='o', linestyle='-', color='b')\n",
    "plt.xlabel(\"m values\")\n",
    "plt.ylabel(\"Speed Improvement Ratio (plain/vectorized)\")\n",
    "plt.title(\"Plain vs. Vectorized Matrix Multiplication\")\n",
    "plt.grid(True)\n",
    "plt.show()"
   ]
  }
 ],
 "metadata": {
  "kernelspec": {
   "display_name": "Python 3",
   "language": "python",
   "name": "python3"
  },
  "language_info": {
   "codemirror_mode": {
    "name": "ipython",
    "version": 3
   },
   "file_extension": ".py",
   "mimetype": "text/x-python",
   "name": "python",
   "nbconvert_exporter": "python",
   "pygments_lexer": "ipython3",
   "version": "3.11.5"
  }
 },
 "nbformat": 4,
 "nbformat_minor": 2
}
